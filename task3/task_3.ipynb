{
 "cells": [
  {
   "cell_type": "markdown",
   "metadata": {},
   "source": [
    "# Статистический анализ данных / Python\n",
    "## Задание 3\n",
    "\n",
    "**Правила:**\n",
    "\n",
    "* Дедлайн **1 декаюря 23:59**.\n",
    "* Выполненную работу нужно отправить на почту ` mipt.stats@yandex.ru`, указав тему письма `\"[MADE19] Фамилия Имя - задание 3\"`. Квадратные скобки обязательны. Если письмо дошло, придет ответ от автоответчика.\n",
    "* Прислать нужно ноутбук и его pdf-версию (без архивов), которую можно сделать с помощью печати в файл через инструменты браузера.\n",
    "* Для выполнения задания используйте этот ноутбук в качествие основы, ничего не удаляя из него. \n",
    "* Разделяйте код вычислений и отрисовки графиков. Так будет удобнее вам и проверяющим.\n",
    "* Задание стоит **7 баллов**."
   ]
  },
  {
   "cell_type": "code",
   "execution_count": 3,
   "metadata": {},
   "outputs": [],
   "source": [
    "import numpy as np\n",
    "import pandas as pd\n",
    "import scipy.stats as sps\n",
    "import matplotlib.pyplot as plt\n",
    "import seaborn as sns\n",
    "%matplotlib inline"
   ]
  },
  {
   "cell_type": "markdown",
   "metadata": {},
   "source": [
    "\n",
    "### Задача.\n",
    "Существует примета, что если перед вами дорогу перебегает черный кот, то скоро случится неудача. \n",
    "Вы же уже достаточно хорошо знаете статистику и хотите проверить данную примету. \n",
    "Сформулируем задачу на математическом языке. \n",
    "\n",
    "Пусть $X_1, ..., X_n \\sim Bern(p)$ --- проведенные наблюдения, где $X_i = 1$, если в $i$-м испытании случилась неудача после того, как черный кот перебежал дорогу, а $p$ --- неизвестная вероятность такого события. \n",
    "Вы хотите проверить гипотезу $\\mathsf{H}_0\\colon p=1/2$ (отсутствие связи между черным котом и неудачей) против альтернативы $\\mathsf{H}_1\\colon p>1/2$ (неудача происходит чаще если черный кот перебегает дорогу).\n",
    "\n",
    "Известно, что $S = \\left\\{T(X) \\geqslant c_\\alpha\\right\\}$, где $T(X) = \\sum X_i$, является равномерно наиболее мощным критерием для проверки этих гипотез. \n",
    "Чему при этом равно $c_\\alpha$ и как определяется p-value?"
   ]
  },
  {
   "cell_type": "markdown",
   "metadata": {},
   "source": [
    "**Ответ:** для дискретных распределений $c_\\alpha$  выбирается из условия $\\mathsf{P}_{\\theta_0}(T(X) > c_\\alpha) = \\alpha_0$, где $\\alpha_0$ максимальное $\\alpha_0 \\leqslant \\alpha$. В данном случае p-value определяется как $p(x) = \\mathsf{P}_{0}(T(X) > t)$, где $t = T(x)$."
   ]
  },
  {
   "cell_type": "markdown",
   "metadata": {},
   "source": [
    "Для начала проверьте, что критерий работает.\n",
    "Возьмите несколько значений $n$ и реализаций статистики $T(X)$.\n",
    "В каждом случае найдите значение $c_\\alpha$ и p-value.\n",
    "Оформите это в виде таблицы (можно через `pandas.DataFrame`).\n",
    "\n",
    "Пользуйтесь функциями из `scipy.stats`. Внимательно проверьте правильность строгих и нестрогих знаков."
   ]
  },
  {
   "cell_type": "markdown",
   "metadata": {},
   "source": [
    "**Замечания**\n",
    "\n",
    "1) Неправильно выписаны формулы для $с_\\alpha$ и p-value, в коде тоже, соотвественно неверно считается. Поясняю:\n",
    "$c_\\alpha = u_{1-\\alpha} + 1$, где $u_p$ --- $p$-квантиль $Bin(n, 0.5)$. Квантиль $u_{1-\\alpha}$ означает $\\mathsf{P}_{0.5}(T(X) \\leqslant u_{1-\\alpha}) \\geqslant 1 - \\alpha$, а значит $\\mathsf{P}_{0.5}(T(X) > u_{1-\\alpha}) \\leqslant \\alpha$. Поскольку распределение дискретно, то $\\mathsf{P}_{0.5}(T(X) = u_{1-\\alpha}) > 0$, и поэтому может случится (и даже случится) так, что $\\mathsf{P}_{0.5}(T(X) \\geqslant u_{1-\\alpha}) > \\alpha$. Этим объясняется то, что $c_\\alpha = u_{1-\\alpha} + 1$, а не $c_\\alpha = u_{1-\\alpha}$.\n",
    " \n",
    "p-value определяется как $p(t) = \\mathsf{P}_{0.5}(T(X) \\geqslant t)$, где $t = \\sum x_i$ --- реализация статистики $T(X)$. Здесь важен нестрогий знак. В определении p-value говорится: *такое же* или еще более экстремальное.\n",
    " \n",
    "Соответственно $c_\\alpha$ на единицу больше, чем у вас, а p-value надо считать sf.(t - 0.5), чтобы учесть и такое же значение статистики."
   ]
  },
  {
   "cell_type": "code",
   "execution_count": 4,
   "metadata": {},
   "outputs": [
    {
     "data": {
      "text/html": [
       "<div>\n",
       "<style scoped>\n",
       "    .dataframe tbody tr th:only-of-type {\n",
       "        vertical-align: middle;\n",
       "    }\n",
       "\n",
       "    .dataframe tbody tr th {\n",
       "        vertical-align: top;\n",
       "    }\n",
       "\n",
       "    .dataframe thead th {\n",
       "        text-align: right;\n",
       "    }\n",
       "</style>\n",
       "<table border=\"1\" class=\"dataframe\">\n",
       "  <thead>\n",
       "    <tr style=\"text-align: right;\">\n",
       "      <th></th>\n",
       "      <th>n</th>\n",
       "      <th>T(x)</th>\n",
       "      <th>c_alpha</th>\n",
       "      <th>p-value</th>\n",
       "    </tr>\n",
       "  </thead>\n",
       "  <tbody>\n",
       "    <tr>\n",
       "      <td>0</td>\n",
       "      <td>10</td>\n",
       "      <td>6.5</td>\n",
       "      <td>9.0</td>\n",
       "      <td>0.171875</td>\n",
       "    </tr>\n",
       "    <tr>\n",
       "      <td>1</td>\n",
       "      <td>50</td>\n",
       "      <td>21.5</td>\n",
       "      <td>32.0</td>\n",
       "      <td>0.838882</td>\n",
       "    </tr>\n",
       "    <tr>\n",
       "      <td>2</td>\n",
       "      <td>150</td>\n",
       "      <td>83.5</td>\n",
       "      <td>86.0</td>\n",
       "      <td>0.082453</td>\n",
       "    </tr>\n",
       "    <tr>\n",
       "      <td>3</td>\n",
       "      <td>250</td>\n",
       "      <td>130.5</td>\n",
       "      <td>139.0</td>\n",
       "      <td>0.243346</td>\n",
       "    </tr>\n",
       "  </tbody>\n",
       "</table>\n",
       "</div>"
      ],
      "text/plain": [
       "     n   T(x)  c_alpha   p-value\n",
       "0   10    6.5      9.0  0.171875\n",
       "1   50   21.5     32.0  0.838882\n",
       "2  150   83.5     86.0  0.082453\n",
       "3  250  130.5    139.0  0.243346"
      ]
     },
     "execution_count": 4,
     "metadata": {},
     "output_type": "execute_result"
    }
   ],
   "source": [
    "p0 = 0.5 # Вероятность в нулевой гипотезе\n",
    "ns = [10, 50, 150, 250] # Размеры выборок\n",
    "alpha = 0.05\n",
    "\n",
    "ts = [] # T(x)\n",
    "c_alphas = []\n",
    "p_values = []\n",
    "\n",
    "for n in ns:\n",
    "    # Пока возьмем p из нулевой гипотезы для генерации выборки\n",
    "    sample = sps.bernoulli(p0).rvs(n) \n",
    "    t = sample.sum()\n",
    "    ts.append(t)\n",
    "    p_values.append(sps.binom(n, p0).sf(t - 0.5))\n",
    "    c_alphas.append(sps.binom(n, p0).ppf(1 - alpha) + 1)\n",
    "\n",
    "pd.DataFrame({'n': ns, 'T(x)': ts, 'c_alpha': c_alphas, 'p-value': p_values})"
   ]
  },
  {
   "cell_type": "markdown",
   "metadata": {},
   "source": [
    "Для каких истинных значений $p$ с точки зрения практики можно считать, что связь между черным котом и неудачей есть? "
   ]
  },
  {
   "cell_type": "markdown",
   "metadata": {},
   "source": [
    "**Ответ:** очень тяжело представить, что такая зависимость есть. С точки зрения практики, при $p = 0.8$ появились бы первые мысли  вдруг все эти суеверия правда. Ох, надеюсь, что все же такие мысли не появятся :)"
   ]
  },
  {
   "cell_type": "markdown",
   "metadata": {},
   "source": [
    "Теперь сгенерируйте 10 выборок для двух случаев: 1). $n=5, p=0.75$; 2). $n=10^5, p=0.51$. \n",
    "В каждом случае в виде таблицы выведите реализацию статистики $T(X)$, соответствующее p-value и 0/1 -- отвергается ли $\\mathsf{H}_0$ (выводите 1, если отвергается)."
   ]
  },
  {
   "cell_type": "code",
   "execution_count": 3,
   "metadata": {},
   "outputs": [],
   "source": [
    "def make_experiment(n, samples_count, p, p0=0.5):\n",
    "    samples = sps.bernoulli(p).rvs((samples_count, n))\n",
    "    ts = samples.sum(axis=1) # Реализации T(X)\n",
    "    c_alpha = sps.binom(n, p0).ppf(1 - alpha) + 1\n",
    "    p_values = sps.binom(n, p0).sf(ts - 0.5)\n",
    "    h0_rejected = (p_values < alpha).astype(int)\n",
    "    \n",
    "    print('n = {}; p = {}; alpha = {}; c_alpha = {}'\n",
    "          .format(n, p, alpha, c_alpha))\n",
    "    print('Отклоняем нулевую гипотезу в {:.1%} случаев'\n",
    "      .format(h0_rejected.mean()))\n",
    "    return pd.DataFrame({'T(x)': ts,\n",
    "                         'p-value': p_values,\n",
    "                         'H0_rejected': h0_rejected})"
   ]
  },
  {
   "cell_type": "code",
   "execution_count": 4,
   "metadata": {
    "scrolled": true
   },
   "outputs": [
    {
     "name": "stdout",
     "output_type": "stream",
     "text": [
      "n = 5; p = 0.75; alpha = 0.05; c_alpha = 4.0\n",
      "Отклоняем нулевую гипотезу в 60.0% случаев\n"
     ]
    },
    {
     "data": {
      "text/html": [
       "<div>\n",
       "<style scoped>\n",
       "    .dataframe tbody tr th:only-of-type {\n",
       "        vertical-align: middle;\n",
       "    }\n",
       "\n",
       "    .dataframe tbody tr th {\n",
       "        vertical-align: top;\n",
       "    }\n",
       "\n",
       "    .dataframe thead th {\n",
       "        text-align: right;\n",
       "    }\n",
       "</style>\n",
       "<table border=\"1\" class=\"dataframe\">\n",
       "  <thead>\n",
       "    <tr style=\"text-align: right;\">\n",
       "      <th></th>\n",
       "      <th>T(x)</th>\n",
       "      <th>p-value</th>\n",
       "      <th>H0_rejected</th>\n",
       "    </tr>\n",
       "  </thead>\n",
       "  <tbody>\n",
       "    <tr>\n",
       "      <td>0</td>\n",
       "      <td>4</td>\n",
       "      <td>0.03125</td>\n",
       "      <td>1</td>\n",
       "    </tr>\n",
       "    <tr>\n",
       "      <td>1</td>\n",
       "      <td>2</td>\n",
       "      <td>0.50000</td>\n",
       "      <td>0</td>\n",
       "    </tr>\n",
       "    <tr>\n",
       "      <td>2</td>\n",
       "      <td>3</td>\n",
       "      <td>0.18750</td>\n",
       "      <td>0</td>\n",
       "    </tr>\n",
       "    <tr>\n",
       "      <td>3</td>\n",
       "      <td>3</td>\n",
       "      <td>0.18750</td>\n",
       "      <td>0</td>\n",
       "    </tr>\n",
       "    <tr>\n",
       "      <td>4</td>\n",
       "      <td>4</td>\n",
       "      <td>0.03125</td>\n",
       "      <td>1</td>\n",
       "    </tr>\n",
       "    <tr>\n",
       "      <td>5</td>\n",
       "      <td>3</td>\n",
       "      <td>0.18750</td>\n",
       "      <td>0</td>\n",
       "    </tr>\n",
       "    <tr>\n",
       "      <td>6</td>\n",
       "      <td>4</td>\n",
       "      <td>0.03125</td>\n",
       "      <td>1</td>\n",
       "    </tr>\n",
       "    <tr>\n",
       "      <td>7</td>\n",
       "      <td>4</td>\n",
       "      <td>0.03125</td>\n",
       "      <td>1</td>\n",
       "    </tr>\n",
       "    <tr>\n",
       "      <td>8</td>\n",
       "      <td>4</td>\n",
       "      <td>0.03125</td>\n",
       "      <td>1</td>\n",
       "    </tr>\n",
       "    <tr>\n",
       "      <td>9</td>\n",
       "      <td>4</td>\n",
       "      <td>0.03125</td>\n",
       "      <td>1</td>\n",
       "    </tr>\n",
       "  </tbody>\n",
       "</table>\n",
       "</div>"
      ],
      "text/plain": [
       "   T(x)  p-value  H0_rejected\n",
       "0     4  0.03125            1\n",
       "1     2  0.50000            0\n",
       "2     3  0.18750            0\n",
       "3     3  0.18750            0\n",
       "4     4  0.03125            1\n",
       "5     3  0.18750            0\n",
       "6     4  0.03125            1\n",
       "7     4  0.03125            1\n",
       "8     4  0.03125            1\n",
       "9     4  0.03125            1"
      ]
     },
     "execution_count": 4,
     "metadata": {},
     "output_type": "execute_result"
    }
   ],
   "source": [
    "make_experiment(n=5, samples_count=10, p=0.75)"
   ]
  },
  {
   "cell_type": "code",
   "execution_count": 5,
   "metadata": {},
   "outputs": [
    {
     "name": "stdout",
     "output_type": "stream",
     "text": [
      "n = 100000; p = 0.51; alpha = 0.05; c_alpha = 50260.0\n",
      "Отклоняем нулевую гипотезу в 100.0% случаев\n"
     ]
    },
    {
     "data": {
      "text/html": [
       "<div>\n",
       "<style scoped>\n",
       "    .dataframe tbody tr th:only-of-type {\n",
       "        vertical-align: middle;\n",
       "    }\n",
       "\n",
       "    .dataframe tbody tr th {\n",
       "        vertical-align: top;\n",
       "    }\n",
       "\n",
       "    .dataframe thead th {\n",
       "        text-align: right;\n",
       "    }\n",
       "</style>\n",
       "<table border=\"1\" class=\"dataframe\">\n",
       "  <thead>\n",
       "    <tr style=\"text-align: right;\">\n",
       "      <th></th>\n",
       "      <th>T(x)</th>\n",
       "      <th>p-value</th>\n",
       "      <th>H0_rejected</th>\n",
       "    </tr>\n",
       "  </thead>\n",
       "  <tbody>\n",
       "    <tr>\n",
       "      <td>0</td>\n",
       "      <td>51114</td>\n",
       "      <td>9.010218e-13</td>\n",
       "      <td>1</td>\n",
       "    </tr>\n",
       "    <tr>\n",
       "      <td>1</td>\n",
       "      <td>50952</td>\n",
       "      <td>8.491307e-10</td>\n",
       "      <td>1</td>\n",
       "    </tr>\n",
       "    <tr>\n",
       "      <td>2</td>\n",
       "      <td>50950</td>\n",
       "      <td>9.181324e-10</td>\n",
       "      <td>1</td>\n",
       "    </tr>\n",
       "    <tr>\n",
       "      <td>3</td>\n",
       "      <td>51299</td>\n",
       "      <td>1.024193e-16</td>\n",
       "      <td>1</td>\n",
       "    </tr>\n",
       "    <tr>\n",
       "      <td>4</td>\n",
       "      <td>51046</td>\n",
       "      <td>1.809612e-11</td>\n",
       "      <td>1</td>\n",
       "    </tr>\n",
       "    <tr>\n",
       "      <td>5</td>\n",
       "      <td>51078</td>\n",
       "      <td>4.511275e-12</td>\n",
       "      <td>1</td>\n",
       "    </tr>\n",
       "    <tr>\n",
       "      <td>6</td>\n",
       "      <td>51106</td>\n",
       "      <td>1.294508e-12</td>\n",
       "      <td>1</td>\n",
       "    </tr>\n",
       "    <tr>\n",
       "      <td>7</td>\n",
       "      <td>51065</td>\n",
       "      <td>7.970556e-12</td>\n",
       "      <td>1</td>\n",
       "    </tr>\n",
       "    <tr>\n",
       "      <td>8</td>\n",
       "      <td>50748</td>\n",
       "      <td>1.100612e-06</td>\n",
       "      <td>1</td>\n",
       "    </tr>\n",
       "    <tr>\n",
       "      <td>9</td>\n",
       "      <td>50961</td>\n",
       "      <td>5.962746e-10</td>\n",
       "      <td>1</td>\n",
       "    </tr>\n",
       "  </tbody>\n",
       "</table>\n",
       "</div>"
      ],
      "text/plain": [
       "    T(x)       p-value  H0_rejected\n",
       "0  51114  9.010218e-13            1\n",
       "1  50952  8.491307e-10            1\n",
       "2  50950  9.181324e-10            1\n",
       "3  51299  1.024193e-16            1\n",
       "4  51046  1.809612e-11            1\n",
       "5  51078  4.511275e-12            1\n",
       "6  51106  1.294508e-12            1\n",
       "7  51065  7.970556e-12            1\n",
       "8  50748  1.100612e-06            1\n",
       "9  50961  5.962746e-10            1"
      ]
     },
     "execution_count": 5,
     "metadata": {},
     "output_type": "execute_result"
    }
   ],
   "source": [
    "make_experiment(n=100000, samples_count=10, p=0.51)"
   ]
  },
  {
   "cell_type": "markdown",
   "metadata": {},
   "source": [
    "**Вывод:**"
   ]
  },
  {
   "cell_type": "markdown",
   "metadata": {},
   "source": [
    "Видно, что размер выборки, равный пяти, недостаточен для проверки гипотезы. Мощности критерия не всегда хватает, чтобы отклонять нулевую гипотезу, несмотря на $p = 0.75$.\n",
    "\n",
    "При размере выборки 100000 обратная ситуация. Мощности критерия хватает даже при $p = 0.51$, т.е. тогда, когда результат уже практически не значим."
   ]
  },
  {
   "cell_type": "markdown",
   "metadata": {},
   "source": [
    "Возникает задача подбора оптимального размера выборки.\n",
    "\n",
    "Для этого сначала зафиксируйте значение $p^* > 1/2$, которое будет обладать следующим свойством.\n",
    "Если истинное $p > p^*$, то такое отклонение от $1/2$ с практической точки зрения признается существенным, то есть действительно чаще случается неудача после того, как черный кот перебегает дорогу.\n",
    "В противном случае отклонение с практической точки зрения признается несущественным.\n",
    "\n",
    "Теперь для некоторых $n$ постройте графики функции мощности критерия при $1/2 < p < 1$ и уровне значимости 0.05.\n",
    "Выберите такое $n^*$, для которого функция мощности дает значение 0.8 при $p^*$."
   ]
  },
  {
   "cell_type": "code",
   "execution_count": 6,
   "metadata": {
    "scrolled": false
   },
   "outputs": [
    {
     "data": {
      "image/png": "[encoded data removed]",
      "text/plain": [
       "<Figure size 720x432 with 1 Axes>"
      ]
     },
     "metadata": {
      "needs_background": "light"
     },
     "output_type": "display_data"
    }
   ],
   "source": [
    "ns = [10, 12, 50, 150, 250] # Размеры выборок\n",
    "samples_count = 10000 # Количество выборок\n",
    "ps = np.arange(0.5, 0.995, 0.01)\n",
    "\n",
    "plt.figure(figsize=(10, 6))\n",
    "\n",
    "for n in ns:\n",
    "    criterion_powers = []\n",
    "    \n",
    "    for p in ps:\n",
    "        samples = sps.bernoulli(p).rvs((samples_count, n))\n",
    "        ts = samples.sum(axis=1) # Реализации T(X)\n",
    "        c_alpha = sps.binom(n, p0).ppf(1 - alpha) + 1\n",
    "        p_values = sps.binom(n, p0).sf(ts - 0.5)\n",
    "        criterion_powers.append((p_values < alpha).mean())\n",
    "    \n",
    "    plt.plot(ps, criterion_powers, label='n = '+str(n))\n",
    "    plt.xlabel(r'$\\theta$')\n",
    "    plt.ylabel('Мощность критерия')\n",
    "    plt.legend()\n",
    "    plt.hlines(0.8, 0.5, 0.98, color='red', linestyles='dotted')"
   ]
  },
  {
   "cell_type": "markdown",
   "metadata": {},
   "source": [
    "По графику выбираем размер выборки $n^* = 12$ с мощностью критерия примерно равной 0.8 при $p^* = 0.8$"
   ]
  },
  {
   "cell_type": "markdown",
   "metadata": {},
   "source": [
    "Для выбранного $n^*$ проведите эксперимент, аналогичный проведенным ранее экспериментам, сгенерировав выборки для следующих истинных значений $p$: 1). $1/2 < p < p^*$; 2). $p > p^*$."
   ]
  },
  {
   "cell_type": "code",
   "execution_count": 7,
   "metadata": {},
   "outputs": [
    {
     "name": "stdout",
     "output_type": "stream",
     "text": [
      "n = 12; p = 0.6; alpha = 0.05; c_alpha = 9.0\n",
      "Отклоняем нулевую гипотезу в 20.0% случаев\n"
     ]
    },
    {
     "data": {
      "text/html": [
       "<div>\n",
       "<style scoped>\n",
       "    .dataframe tbody tr th:only-of-type {\n",
       "        vertical-align: middle;\n",
       "    }\n",
       "\n",
       "    .dataframe tbody tr th {\n",
       "        vertical-align: top;\n",
       "    }\n",
       "\n",
       "    .dataframe thead th {\n",
       "        text-align: right;\n",
       "    }\n",
       "</style>\n",
       "<table border=\"1\" class=\"dataframe\">\n",
       "  <thead>\n",
       "    <tr style=\"text-align: right;\">\n",
       "      <th></th>\n",
       "      <th>T(x)</th>\n",
       "      <th>p-value</th>\n",
       "      <th>H0_rejected</th>\n",
       "    </tr>\n",
       "  </thead>\n",
       "  <tbody>\n",
       "    <tr>\n",
       "      <td>0</td>\n",
       "      <td>5</td>\n",
       "      <td>0.612793</td>\n",
       "      <td>0</td>\n",
       "    </tr>\n",
       "    <tr>\n",
       "      <td>1</td>\n",
       "      <td>5</td>\n",
       "      <td>0.612793</td>\n",
       "      <td>0</td>\n",
       "    </tr>\n",
       "    <tr>\n",
       "      <td>2</td>\n",
       "      <td>7</td>\n",
       "      <td>0.193848</td>\n",
       "      <td>0</td>\n",
       "    </tr>\n",
       "    <tr>\n",
       "      <td>3</td>\n",
       "      <td>7</td>\n",
       "      <td>0.193848</td>\n",
       "      <td>0</td>\n",
       "    </tr>\n",
       "    <tr>\n",
       "      <td>4</td>\n",
       "      <td>8</td>\n",
       "      <td>0.072998</td>\n",
       "      <td>0</td>\n",
       "    </tr>\n",
       "    <tr>\n",
       "      <td>5</td>\n",
       "      <td>7</td>\n",
       "      <td>0.193848</td>\n",
       "      <td>0</td>\n",
       "    </tr>\n",
       "    <tr>\n",
       "      <td>6</td>\n",
       "      <td>9</td>\n",
       "      <td>0.019287</td>\n",
       "      <td>1</td>\n",
       "    </tr>\n",
       "    <tr>\n",
       "      <td>7</td>\n",
       "      <td>5</td>\n",
       "      <td>0.612793</td>\n",
       "      <td>0</td>\n",
       "    </tr>\n",
       "    <tr>\n",
       "      <td>8</td>\n",
       "      <td>8</td>\n",
       "      <td>0.072998</td>\n",
       "      <td>0</td>\n",
       "    </tr>\n",
       "    <tr>\n",
       "      <td>9</td>\n",
       "      <td>10</td>\n",
       "      <td>0.003174</td>\n",
       "      <td>1</td>\n",
       "    </tr>\n",
       "  </tbody>\n",
       "</table>\n",
       "</div>"
      ],
      "text/plain": [
       "   T(x)   p-value  H0_rejected\n",
       "0     5  0.612793            0\n",
       "1     5  0.612793            0\n",
       "2     7  0.193848            0\n",
       "3     7  0.193848            0\n",
       "4     8  0.072998            0\n",
       "5     7  0.193848            0\n",
       "6     9  0.019287            1\n",
       "7     5  0.612793            0\n",
       "8     8  0.072998            0\n",
       "9    10  0.003174            1"
      ]
     },
     "execution_count": 7,
     "metadata": {},
     "output_type": "execute_result"
    }
   ],
   "source": [
    "make_experiment(n=12, samples_count=10, p=0.6)"
   ]
  },
  {
   "cell_type": "code",
   "execution_count": 8,
   "metadata": {},
   "outputs": [
    {
     "name": "stdout",
     "output_type": "stream",
     "text": [
      "n = 12; p = 0.9; alpha = 0.05; c_alpha = 9.0\n",
      "Отклоняем нулевую гипотезу в 90.0% случаев\n"
     ]
    },
    {
     "data": {
      "text/html": [
       "<div>\n",
       "<style scoped>\n",
       "    .dataframe tbody tr th:only-of-type {\n",
       "        vertical-align: middle;\n",
       "    }\n",
       "\n",
       "    .dataframe tbody tr th {\n",
       "        vertical-align: top;\n",
       "    }\n",
       "\n",
       "    .dataframe thead th {\n",
       "        text-align: right;\n",
       "    }\n",
       "</style>\n",
       "<table border=\"1\" class=\"dataframe\">\n",
       "  <thead>\n",
       "    <tr style=\"text-align: right;\">\n",
       "      <th></th>\n",
       "      <th>T(x)</th>\n",
       "      <th>p-value</th>\n",
       "      <th>H0_rejected</th>\n",
       "    </tr>\n",
       "  </thead>\n",
       "  <tbody>\n",
       "    <tr>\n",
       "      <td>0</td>\n",
       "      <td>12</td>\n",
       "      <td>0.000000</td>\n",
       "      <td>1</td>\n",
       "    </tr>\n",
       "    <tr>\n",
       "      <td>1</td>\n",
       "      <td>11</td>\n",
       "      <td>0.000244</td>\n",
       "      <td>1</td>\n",
       "    </tr>\n",
       "    <tr>\n",
       "      <td>2</td>\n",
       "      <td>11</td>\n",
       "      <td>0.000244</td>\n",
       "      <td>1</td>\n",
       "    </tr>\n",
       "    <tr>\n",
       "      <td>3</td>\n",
       "      <td>12</td>\n",
       "      <td>0.000000</td>\n",
       "      <td>1</td>\n",
       "    </tr>\n",
       "    <tr>\n",
       "      <td>4</td>\n",
       "      <td>11</td>\n",
       "      <td>0.000244</td>\n",
       "      <td>1</td>\n",
       "    </tr>\n",
       "    <tr>\n",
       "      <td>5</td>\n",
       "      <td>9</td>\n",
       "      <td>0.019287</td>\n",
       "      <td>1</td>\n",
       "    </tr>\n",
       "    <tr>\n",
       "      <td>6</td>\n",
       "      <td>9</td>\n",
       "      <td>0.019287</td>\n",
       "      <td>1</td>\n",
       "    </tr>\n",
       "    <tr>\n",
       "      <td>7</td>\n",
       "      <td>11</td>\n",
       "      <td>0.000244</td>\n",
       "      <td>1</td>\n",
       "    </tr>\n",
       "    <tr>\n",
       "      <td>8</td>\n",
       "      <td>12</td>\n",
       "      <td>0.000000</td>\n",
       "      <td>1</td>\n",
       "    </tr>\n",
       "    <tr>\n",
       "      <td>9</td>\n",
       "      <td>8</td>\n",
       "      <td>0.072998</td>\n",
       "      <td>0</td>\n",
       "    </tr>\n",
       "  </tbody>\n",
       "</table>\n",
       "</div>"
      ],
      "text/plain": [
       "   T(x)   p-value  H0_rejected\n",
       "0    12  0.000000            1\n",
       "1    11  0.000244            1\n",
       "2    11  0.000244            1\n",
       "3    12  0.000000            1\n",
       "4    11  0.000244            1\n",
       "5     9  0.019287            1\n",
       "6     9  0.019287            1\n",
       "7    11  0.000244            1\n",
       "8    12  0.000000            1\n",
       "9     8  0.072998            0"
      ]
     },
     "execution_count": 8,
     "metadata": {},
     "output_type": "execute_result"
    }
   ],
   "source": [
    "make_experiment(n=12, samples_count=10, p=0.9)"
   ]
  },
  {
   "cell_type": "markdown",
   "metadata": {},
   "source": [
    "**Вывод:**"
   ]
  },
  {
   "cell_type": "markdown",
   "metadata": {},
   "source": [
    "При планировании эксперимента можно заранее определять необходимый размер выборки, достаточный для выявления значимого практического отклонения. Но при этом теряется возможность выявления отклонения меньше практически значимого (ну еще бы, мы же по нему мощность критерия подбирали). Что в принципе хорошо, т.к. мы не будем получать бесполезных результатов."
   ]
  }
 ],
 "metadata": {
  "kernelspec": {
   "display_name": "Python 3",
   "language": "python",
   "name": "python3"
  },
  "language_info": {
   "codemirror_mode": {
    "name": "ipython",
    "version": 3
   },
   "file_extension": ".py",
   "mimetype": "text/x-python",
   "name": "python",
   "nbconvert_exporter": "python",
   "pygments_lexer": "ipython3",
   "version": "3.7.4"
  }
 },
 "nbformat": 4,
 "nbformat_minor": 2
}
